{
 "cells": [
  {
   "cell_type": "code",
   "execution_count": null,
   "metadata": {},
   "outputs": [],
   "source": []
  },
  {
   "cell_type": "code",
   "execution_count": 3,
   "metadata": {},
   "outputs": [],
   "source": [
    "# USAGE\n",
    "# python find_shapes.py --image shapes.png\n",
    "\n",
    "# 导入必要的包\n",
    "import argparse\n",
    "\n",
    "import cv2\n",
    "import imutils\n",
    "import numpy as np\n"
   ]
  },
  {
   "cell_type": "code",
   "execution_count": null,
   "metadata": {},
   "outputs": [],
   "source": [
    "\n",
    "# 构建命令行参数及解析\n",
    "# --image：图像的路径\n",
    "ap = argparse.ArgumentParser()\n",
    "ap.add_argument(\"-i\", \"--image\", help=\"path to the image file\")\n",
    "args = vars(ap.parse_args())\n",
    "\n",
    "# 加载图像\n",
    "image = cv2.imread(args[\"image\"])\n",
    "cv2.imshow(\"origin Image\", image)\n",
    "cv2.waitKey(0)\n",
    "\n",
    "# 目标：检测图像中的黑色形状 使用cv2.inRange实际上检测这些黑色形状非常容易\n",
    "# 检测图像中的所有黑色形状\n",
    "# OpenCV以BGR格式存储图像，定义图像颜色的上下边界\n",
    "lower = np.array([0, 0, 0])  # 纯黑色\n",
    "upper = np.array([15, 15, 15])  # 包含非常深的灰色阴影\n",
    "shapeMask = cv2.inRange(image, lower, upper)\n",
    "\n",
    "# 原始图像中的所有黑色形状现在在黑色背景上均为白色。\n",
    "# 检测shapeMask中的轮廓\n",
    "cnts = cv2.findContours(shapeMask.copy(), cv2.RETR_EXTERNAL,\n",
    "                        cv2.CHAIN_APPROX_SIMPLE)\n",
    "cnts = imutils.grab_contours(cnts)  # 兼容不同版本的openCV结果\n",
    "print(\"I found {} black shapes\".format(len(cnts)))\n",
    "cv2.imshow(\"Mask\", shapeMask)\n",
    "\n",
    "# 遍历检测到的轮廓\n",
    "for c in cnts:\n",
    "    # 画出轮廓并展示 绿色\n",
    "    cv2.drawContours(image, [c], -1, (0, 255, 0), 2)\n",
    "    cv2.imshow(\"Image\", image)\n",
    "    cv2.waitKey(0)\n"
   ]
  },
  {
   "cell_type": "code",
   "execution_count": 7,
   "metadata": {},
   "outputs": [],
   "source": [
    "image = cv2.imread(\"./results/SARUp_dream_3/test_best/images/001_ct_053_real_B.png\")\n",
    "lower = np.array([0, 0, 0])  # 纯黑色\n",
    "upper = np.array([15, 15, 15])  # 包含非常深的灰色阴影\n",
    "shapeMask = cv2.inRange(image, lower, upper)"
   ]
  },
  {
   "cell_type": "code",
   "execution_count": 8,
   "metadata": {},
   "outputs": [
    {
     "name": "stdout",
     "output_type": "stream",
     "text": [
      "I found 1 black shapes\n"
     ]
    }
   ],
   "source": [
    "cnts = cv2.findContours(shapeMask.copy(), cv2.RETR_EXTERNAL,\n",
    "                        cv2.CHAIN_APPROX_SIMPLE)\n",
    "cnts = imutils.grab_contours(cnts)  # 兼容不同版本的openCV结果\n",
    "print(\"I found {} black shapes\".format(len(cnts)))\n",
    "cv2.imshow(\"Mask\", shapeMask)\n"
   ]
  },
  {
   "cell_type": "code",
   "execution_count": null,
   "metadata": {},
   "outputs": [],
   "source": [
    "for c in cnts:\n",
    "    # 画出轮廓并展示 绿色\n",
    "    cv2.drawContours(image, [c], -1, (0, 255, 0), 2)\n",
    "    cv2.imshow(\"Image\", image)\n",
    "    cv2.waitKey(0)\n"
   ]
  },
  {
   "cell_type": "code",
   "execution_count": null,
   "metadata": {},
   "outputs": [],
   "source": [
    "cv2.imshow(\"Image\", image)\n",
    "cv2.waitKey(0)\n"
   ]
  }
 ],
 "metadata": {
  "kernelspec": {
   "display_name": "Python 3",
   "language": "python",
   "name": "python3"
  },
  "language_info": {
   "codemirror_mode": {
    "name": "ipython",
    "version": 3
   },
   "file_extension": ".py",
   "mimetype": "text/x-python",
   "name": "python",
   "nbconvert_exporter": "python",
   "pygments_lexer": "ipython3",
   "version": "3.8.5"
  }
 },
 "nbformat": 4,
 "nbformat_minor": 4
}
